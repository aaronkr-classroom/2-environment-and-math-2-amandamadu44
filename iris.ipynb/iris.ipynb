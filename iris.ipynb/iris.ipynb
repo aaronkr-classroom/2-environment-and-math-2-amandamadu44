{
 "cells": [
  {
   "cell_type": "markdown",
   "id": "5872b1b6",
   "metadata": {},
   "source": [
    "# Markdown\n",
    "\n",
    "Write your own MD content from `slide 49`."
   ]
  },
  {
   "cell_type": "markdown",
   "id": "58dc8fd5",
   "metadata": {},
   "source": [
    "\n",
    "# 1. Hello Python\n",
    "name = \"Amanda\" \n",
    "goals = ['learn ML', 'learn DL', 'deeply learn DL']\n",
    "\n",
    "print(\"Hello,\", name,\"!\")\n",
    "print(\"Hello, \" + name + \"!\")\n",
    "\n",
    "# for(1 starting pint; 2 end condition; 4 next step;) {\n",
    "    # 3 executing code;\n",
    "# }\n",
    "for g in goals: \n",
    "    print('-', g)\n",
    "\n",
    "# if - elif - else\n",
    "if \"learn ML\" in goals:\n",
    "    print(\"Let's learn ML\")"
   ]
  },
  {
   "cell_type": "markdown",
   "id": "78f77ed5",
   "metadata": {},
   "source": []
  },
  {
   "cell_type": "markdown",
   "id": "5e790c53",
   "metadata": {},
   "source": []
  }
 ],
 "metadata": {
  "language_info": {
   "name": "python"
  }
 },
 "nbformat": 4,
 "nbformat_minor": 5
}
